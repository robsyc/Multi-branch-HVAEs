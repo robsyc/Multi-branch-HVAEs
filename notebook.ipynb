{
 "cells": [
  {
   "cell_type": "code",
   "execution_count": 7,
   "metadata": {},
   "outputs": [],
   "source": [
    "# make sure venv is activated `source ./venv/bin/activate`\n",
    "# !pip list\n",
    "# !pip install -r requirements.txt\n",
    "\n",
    "# TODO\n",
    "# - implement TensorDataset and DataLoader\n",
    "# - implement VAE for protein sequences\n",
    "# - multi-branch model for interaction prediction & how to set up loss?!\n",
    "# - take a look at making the model more sound\n",
    "# - use of https://github.com/MolecularAI/pysmilesutils instead of smiles_encoder\n",
    "# - graph-based models (https://pytorch-geometric.readthedocs.io/en/latest/get_started/colabs.html) GAT & VGAE\n",
    "# - SMILES2graph https://www.blopig.com/blog/2022/02/how-to-turn-a-smiles-string-into-a-molecular-graph-for-pytorch-geometric/\n",
    "# - Something to get molecular graphs of proteins? (https://graphein.ai/index.html)"
   ]
  },
  {
   "cell_type": "code",
   "execution_count": 8,
   "metadata": {},
   "outputs": [
    {
     "name": "stdout",
     "output_type": "stream",
     "text": [
      "2.4.0+cu124\n",
      "cuda\n"
     ]
    }
   ],
   "source": [
    "import torch; print(torch.__version__)\n",
    "\n",
    "device = torch.device(\"cuda\" if torch.cuda.is_available() else \"cpu\")\n",
    "print(device)"
   ]
  },
  {
   "cell_type": "markdown",
   "metadata": {},
   "source": [
    "# Import DAVIS dataset"
   ]
  },
  {
   "cell_type": "code",
   "execution_count": 9,
   "metadata": {},
   "outputs": [
    {
     "name": "stderr",
     "output_type": "stream",
     "text": [
      "Found local copy...\n",
      "Loading...\n",
      "Done!\n"
     ]
    }
   ],
   "source": [
    "from tdc.multi_pred import DTI\n",
    "\n",
    "data = DTI(name = 'DAVIS')\n",
    "split = data.get_split()"
   ]
  },
  {
   "cell_type": "code",
   "execution_count": 10,
   "metadata": {},
   "outputs": [
    {
     "name": "stdout",
     "output_type": "stream",
     "text": [
      "dict_keys(['train', 'valid', 'test'])\n",
      "Number of samples:  25772\n",
      "Train 7 / valid 1 / test sizes 2 : 18041 2577 5154\n",
      "Range of drug-target interaction values:  0.016 10000.0\n"
     ]
    },
    {
     "data": {
      "text/html": [
       "<div>\n",
       "<style scoped>\n",
       "    .dataframe tbody tr th:only-of-type {\n",
       "        vertical-align: middle;\n",
       "    }\n",
       "\n",
       "    .dataframe tbody tr th {\n",
       "        vertical-align: top;\n",
       "    }\n",
       "\n",
       "    .dataframe thead th {\n",
       "        text-align: right;\n",
       "    }\n",
       "</style>\n",
       "<table border=\"1\" class=\"dataframe\">\n",
       "  <thead>\n",
       "    <tr style=\"text-align: right;\">\n",
       "      <th></th>\n",
       "      <th>Drug_ID</th>\n",
       "      <th>Drug</th>\n",
       "      <th>Target_ID</th>\n",
       "      <th>Target</th>\n",
       "      <th>Y</th>\n",
       "    </tr>\n",
       "  </thead>\n",
       "  <tbody>\n",
       "    <tr>\n",
       "      <th>0</th>\n",
       "      <td>11314340</td>\n",
       "      <td>Cc1[nH]nc2ccc(-c3cncc(OCC(N)Cc4ccccc4)c3)cc12</td>\n",
       "      <td>AAK1</td>\n",
       "      <td>MKKFFDSRREQGGSGLGSGSSGGGGSTSGLGSGYIGRVFGIGRQQV...</td>\n",
       "      <td>43.0</td>\n",
       "    </tr>\n",
       "    <tr>\n",
       "      <th>1</th>\n",
       "      <td>11314340</td>\n",
       "      <td>Cc1[nH]nc2ccc(-c3cncc(OCC(N)Cc4ccccc4)c3)cc12</td>\n",
       "      <td>ABL1p</td>\n",
       "      <td>PFWKILNPLLERGTYYYFMGQQPGKVLGDQRRPSLPALHFIKGAGK...</td>\n",
       "      <td>10000.0</td>\n",
       "    </tr>\n",
       "    <tr>\n",
       "      <th>2</th>\n",
       "      <td>11314340</td>\n",
       "      <td>Cc1[nH]nc2ccc(-c3cncc(OCC(N)Cc4ccccc4)c3)cc12</td>\n",
       "      <td>ABL2</td>\n",
       "      <td>MVLGTVLLPPNSYGRDQDTSLCCLCTEASESALPDLTDHFASCVED...</td>\n",
       "      <td>10000.0</td>\n",
       "    </tr>\n",
       "    <tr>\n",
       "      <th>3</th>\n",
       "      <td>11314340</td>\n",
       "      <td>Cc1[nH]nc2ccc(-c3cncc(OCC(N)Cc4ccccc4)c3)cc12</td>\n",
       "      <td>ACVR1</td>\n",
       "      <td>MVDGVMILPVLIMIALPSPSMEDEKPKVNPKLYMCVCEGLSCGNED...</td>\n",
       "      <td>10000.0</td>\n",
       "    </tr>\n",
       "    <tr>\n",
       "      <th>4</th>\n",
       "      <td>11314340</td>\n",
       "      <td>Cc1[nH]nc2ccc(-c3cncc(OCC(N)Cc4ccccc4)c3)cc12</td>\n",
       "      <td>ACVR2A</td>\n",
       "      <td>MGAAAKLAFAVFLISCSSGAILGRSETQECLFFNANWEKDRTNQTG...</td>\n",
       "      <td>10000.0</td>\n",
       "    </tr>\n",
       "  </tbody>\n",
       "</table>\n",
       "</div>"
      ],
      "text/plain": [
       "    Drug_ID                                           Drug Target_ID  \\\n",
       "0  11314340  Cc1[nH]nc2ccc(-c3cncc(OCC(N)Cc4ccccc4)c3)cc12      AAK1   \n",
       "1  11314340  Cc1[nH]nc2ccc(-c3cncc(OCC(N)Cc4ccccc4)c3)cc12     ABL1p   \n",
       "2  11314340  Cc1[nH]nc2ccc(-c3cncc(OCC(N)Cc4ccccc4)c3)cc12      ABL2   \n",
       "3  11314340  Cc1[nH]nc2ccc(-c3cncc(OCC(N)Cc4ccccc4)c3)cc12     ACVR1   \n",
       "4  11314340  Cc1[nH]nc2ccc(-c3cncc(OCC(N)Cc4ccccc4)c3)cc12    ACVR2A   \n",
       "\n",
       "                                              Target        Y  \n",
       "0  MKKFFDSRREQGGSGLGSGSSGGGGSTSGLGSGYIGRVFGIGRQQV...     43.0  \n",
       "1  PFWKILNPLLERGTYYYFMGQQPGKVLGDQRRPSLPALHFIKGAGK...  10000.0  \n",
       "2  MVLGTVLLPPNSYGRDQDTSLCCLCTEASESALPDLTDHFASCVED...  10000.0  \n",
       "3  MVDGVMILPVLIMIALPSPSMEDEKPKVNPKLYMCVCEGLSCGNED...  10000.0  \n",
       "4  MGAAAKLAFAVFLISCSSGAILGRSETQECLFFNANWEKDRTNQTG...  10000.0  "
      ]
     },
     "execution_count": 10,
     "metadata": {},
     "output_type": "execute_result"
    }
   ],
   "source": [
    "print(split.keys())\n",
    "\n",
    "print(\"Number of samples: \", len(split['train']) + len(split['valid']) + len(split['test']))\n",
    "print(\"Train 7 / valid 1 / test sizes 2 :\", len(split['train']), len(split['valid']), len(split['test']))\n",
    "print(\"Range of drug-target interaction values: \", split['train']['Y'].min(), split['train']['Y'].max())\n",
    "\n",
    "split['train'].head()"
   ]
  },
  {
   "cell_type": "code",
   "execution_count": 11,
   "metadata": {},
   "outputs": [
    {
     "name": "stdout",
     "output_type": "stream",
     "text": [
      "379\n"
     ]
    }
   ],
   "source": [
    "print(len(split['train']['Target'].unique()))"
   ]
  },
  {
   "cell_type": "code",
   "execution_count": 12,
   "metadata": {},
   "outputs": [
    {
     "name": "stdout",
     "output_type": "stream",
     "text": [
      "68\n"
     ]
    },
    {
     "data": {
      "text/plain": [
       "array(['Cc1[nH]nc2ccc(-c3cncc(OCC(N)Cc4ccccc4)c3)cc12',\n",
       "       'CC(C)(C)c1cc(NC(=O)Nc2ccc(-c3cn4c(n3)sc3cc(OCCN5CCOCC5)ccc34)cc2)no1',\n",
       "       'CCN1CCN(Cc2ccc(NC(=O)Nc3ccc(Oc4cc(NC)ncn4)cc3)cc2C(F)(F)F)CC1',\n",
       "       'O=C(NC1CCNCC1)c1[nH]ncc1NC(=O)c1c(Cl)cccc1Cl',\n",
       "       'CN(C)CC=CC(=O)Nc1cc2c(Nc3ccc(F)c(Cl)c3)ncnc2cc1OC1CCOC1',\n",
       "       'CN1CCC(c2c(O)cc(O)c3c(=O)cc(-c4ccccc4Cl)oc23)C(O)C1',\n",
       "       'CNC(=O)c1ccccc1Sc1ccc2c(C=Cc3ccccn3)n[nH]c2c1',\n",
       "       'CCC1C(=O)N(C)c2cnc(Nc3ccc(C(=O)NC4CCN(C)CC4)cc3OC)nc2N1C1CCCC1',\n",
       "       'Cc1ccc2nc(NCCN)c3ncc(C)n3c2c1.Cl',\n",
       "       'CCN(CCO)CCCOc1ccc2c(Nc3cc(CC(=O)Nc4cccc(F)c4)[nH]n3)ncnc2c1',\n",
       "       'COc1cc(Nc2c(C#N)cnc3cc(OCCCN4CCN(C)CC4)c(OC)cc23)c(Cl)cc1Cl',\n",
       "       'Cc1cc2c(F)c(Oc3ncnn4cc(OCC(C)O)c(C)c34)ccc2[nH]1',\n",
       "       'Cn1c(Nc2ccc(C(F)(F)F)cc2)nc2cc(Oc3ccnc(-c4ncc(C(F)(F)F)[nH]4)c3)ccc21',\n",
       "       'O=C(NOCC1CC1)c1ccc(F)c(F)c1Nc1ccc(I)cc1Cl',\n",
       "       'C=CC(=O)Nc1cc2c(Nc3ccc(F)c(Cl)c3)ncnc2cc1OCCCN1CCOCC1',\n",
       "       'COc1cc2c(Oc3ccc4[nH]c(C)cc4c3F)ncnc2cc1OCCCN1CCCC1',\n",
       "       'CC(Oc1cc(-c2cnn(C3CCNCC3)c2)cnc1N)c1c(Cl)ccc(F)c1Cl',\n",
       "       'Cc1nc(Nc2ncc(C(=O)Nc3c(C)cccc3Cl)s2)cc(N2CCN(CCO)CC2)n1',\n",
       "       'Cc1ccc(-n2nc(C(C)(C)C)cc2NC(=O)Nc2ccc(OCCN3CCOCC3)c3ccccc23)cc1',\n",
       "       'CC(O)C(=O)O.CN1CCN(c2ccc3c(c2)NC(=C2C(=O)N=c4cccc(F)c4=C2N)N3)CC1.O',\n",
       "       'Cn1cc(C2=C(c3cn(C4CCN(Cc5ccccn5)CC4)c4ccccc34)C(=O)NC2=O)c2ccccc21',\n",
       "       'C#Cc1cccc(Nc2ncnc3cc(OCCOC)c(OCCOC)cc23)c1',\n",
       "       'COc1cc2c(Oc3ccc(NC(=O)C4(C(=O)Nc5ccc(F)cc5)CC4)cc3F)ccnc2cc1OCCCN1CCOCC1',\n",
       "       'OCCn1cc(-c2ccc3c(c2)CCC3=NO)c(-c2ccncc2)n1',\n",
       "       'CCn1c(-c2nonc2N)nc2c(C#CC(C)(C)O)ncc(OCC3CCCNC3)c21',\n",
       "       'COc1ccc(COc2ccc(Cc3cnc(N)nc3N)cc2OC)cc1',\n",
       "       'COc1cc2ncnc(Nc3ccc(F)c(Cl)c3)c2cc1OCCCN1CCOCC1',\n",
       "       'Cc1ccc(NC(=O)c2ccc(CN3CCN(C)CC3)cc2)cc1Nc1nccc(-c2cccnc2)n1',\n",
       "       'CN1CCN(C(=O)c2cc3cc(Cl)ccc3[nH]2)CC1',\n",
       "       'O=C(c1ccc(C=Cc2n[nH]c3ccccc23)cc1)N1CCNCC1',\n",
       "       'CS(=O)(=O)CCNCc1ccc(-c2ccc3ncnc(Nc4ccc(OCc5cccc(F)c5)c(Cl)c4)c3c2)o1',\n",
       "       'CC12OC(CC1(O)CO)n1c3ccccc3c3c4c(c5c6ccccc6n2c5c31)CNC4=O',\n",
       "       'Cc1ccc(F)c(NC(=O)Nc2ccc(-c3cccc4[nH]nc(N)c34)cc2)c1',\n",
       "       'COc1c(Cl)cc2c([nH]c3cnccc32)c1NC(=O)c1cccnc1C',\n",
       "       'O=C(O)c1ccc(Nc2ncc3c(n2)-c2ccc(Cl)cc2C(c2c(F)cccc2F)=NC3)cc1',\n",
       "       'Cc1ccc(NC(=O)c2ccc(CN3CCN(C)CC3)cc2)cc1Nc1nc(-c2cccnc2)cs1',\n",
       "       'COC1C(N(C)C(=O)c2ccccc2)CC2OC1(C)n1c3ccccc3c3c4c(c5c6ccccc6n2c5c31)C(=O)NC4',\n",
       "       'CC1(C)CNc2cc(NC(=O)c3cccnc3NCc3ccncc3)ccc21',\n",
       "       'CCOc1cc2ncc(C#N)c(Nc3ccc(OCc4ccccn4)c(Cl)c3)c2cc1NC(=O)C=CCN(C)C',\n",
       "       'Cc1cn(-c2cc(NC(=O)c3ccc(C)c(Nc4nccc(-c5cccnc5)n4)c3)cc(C(F)(F)F)c2)cn1',\n",
       "       'CSc1cccc(Nc2ncc3cc(-c4c(Cl)cccc4Cl)c(=O)n(C)c3n2)c1',\n",
       "       'Cc1[nH]c(C=C2C(=O)Nc3ccc(S(=O)(=O)Cc4c(Cl)cccc4Cl)cc32)c(C)c1C(=O)N1CCCC1CN1CCCC1',\n",
       "       'Oc1cccc(-c2nc(N3CCOCC3)c3oc4ncccc4c3n2)c1',\n",
       "       'CCCS(=O)(=O)Nc1ccc(F)c(C(=O)c2c[nH]c3ncc(Cl)cc23)c1F',\n",
       "       'CC(C)N1NC(=C2C=c3cc(O)ccc3=N2)c2c(N)ncnc21',\n",
       "       'Cc1ccc(Nc2nccc(N(C)c3ccc4c(C)n(C)nc4c3)n2)cc1S(N)(=O)=O',\n",
       "       'CS(=O)(=O)N1CCN(Cc2cc3nc(-c4cccc5[nH]ncc45)nc(N4CCOCC4)c3s2)CC1',\n",
       "       'COc1cc(Nc2ncc(F)c(Nc3ccc4c(n3)NC(=O)C(C)(C)O4)n2)cc(OC)c1OC.O=S(=O)(O)c1ccccc1',\n",
       "       'CN(C)CC1CCn2cc(c3ccccc32)C2=C(C(=O)NC2=O)c2cn(c3ccccc23)CCO1',\n",
       "       'N#CCC(C1CCCC1)n1cc(-c2ncnc3[nH]ccc23)cn1.O=P(O)(O)O',\n",
       "       'CS(=O)c1ccc(-c2nc(-c3ccc(F)cc3)c(-c3ccncc3)[nH]2)cc1',\n",
       "       'Cn1cc(-c2ccc3nnc(Sc4ccc5ncccc5c4)n3n2)cn1',\n",
       "       'CC(C)(C)c1cnc(CSc2cnc(NC(=O)C3CCNCC3)s2)o1',\n",
       "       'Cc1[nH]c(C=C2C(=O)Nc3ccc(F)cc32)c(C)c1C(=O)NCC(O)CN1CCOCC1',\n",
       "       'Cn1cnc2c(F)c(Nc3ccc(Br)cc3Cl)c(C(=O)NOCCO)cc21',\n",
       "       'CNC(=O)c1cc(Oc2ccc(NC(=O)Nc3ccc(Cl)c(C(F)(F)F)c3)cc2)ccn1',\n",
       "       'CNC1CC2OC(C)(C1OC)n1c3ccccc3c3c4c(c5c6ccccc6n2c5c31)C(=O)NC4',\n",
       "       'CCN(CC)CCNC(=O)c1c(C)[nH]c(C=C2C(=O)Nc3ccc(F)cc32)c1C',\n",
       "       'COc1cc(N2CCC(N3CCN(C)CC3)CC2)ccc1Nc1ncc(Cl)c(Nc2ccccc2S(=O)(=O)C(C)C)n1',\n",
       "       'Nc1nc(N)c2nc(-c3cccc(O)c3)c(-c3cccc(O)c3)nc2n1',\n",
       "       'Cc1cnc(Nc2ccc(OCCN3CCCC3)cc2)nc1Nc1cccc(S(=O)(=O)NC(C)(C)C)c1',\n",
       "       'COc1cc2c(N3CCN(C(=O)Nc4ccc(OC(C)C)cc4)CC3)ncnc2cc1OCCCN1CCCCC1',\n",
       "       'CC1CCN(C(=O)CC#N)CC1N(C)c1ncnc2[nH]ccc12',\n",
       "       'Cc1cc(Nc2cc(N3CCN(C)CC3)nc(Sc3ccc(NC(=O)C4CC4)cc3)n2)n[nH]1',\n",
       "       'O=c1ncn2nc(Sc3ccc(F)cc3F)ccc2c1-c1c(Cl)cccc1Cl',\n",
       "       'COc1cc2c(Nc3ccc(Br)cc3F)ncnc2cc1OCC1CCN(C)CC1',\n",
       "       'COC(=O)c1ccc2c(c1)NC(=O)C2=C(Nc1ccc(N(C)C(=O)CN2CCN(C)CC2)cc1)c1ccccc1',\n",
       "       'Clc1ccc(Nc2nnc(Cc3ccncc3)c3ccccc23)cc1'], dtype=object)"
      ]
     },
     "execution_count": 12,
     "metadata": {},
     "output_type": "execute_result"
    }
   ],
   "source": [
    "molecules = split['train']['Drug'].unique()\n",
    "print(len(molecules))\n",
    "molecules"
   ]
  },
  {
   "cell_type": "markdown",
   "metadata": {},
   "source": [
    "# Create molecular graph for molecule"
   ]
  },
  {
   "cell_type": "code",
   "execution_count": 15,
   "metadata": {},
   "outputs": [
    {
     "data": {
      "text/plain": [
       "['data', 'models', 'venv', 'notebook.ipynb', 'encoding', 'requirements.txt']"
      ]
     },
     "execution_count": 15,
     "metadata": {},
     "output_type": "execute_result"
    }
   ],
   "source": [
    "import os\n",
    "\n",
    "os.listdir()"
   ]
  },
  {
   "cell_type": "code",
   "execution_count": 16,
   "metadata": {},
   "outputs": [
    {
     "name": "stdout",
     "output_type": "stream",
     "text": [
      "Number of batches:  5 \tsamples:  68\n",
      "Max number of atoms (i.e. nodes):  46\n",
      "\n",
      "Example molecule 2 :  CCN1CCN(Cc2ccc(NC(=O)Nc3ccc(Oc4cc(NC)ncn4)cc3)cc2C(F)(F)F)CC1\n",
      "Number of atoms:  38\n",
      "Number of bonds:  41\n"
     ]
    },
    {
     "data": {
      "image/jpeg": "[encoded data removed]",
      "image/png": "[encoded data removed]",
      "text/plain": [
       "<PIL.PngImagePlugin.PngImageFile image mode=RGB size=300x300>"
      ]
     },
     "metadata": {},
     "output_type": "display_data"
    },
    {
     "name": "stdout",
     "output_type": "stream",
     "text": [
      "Converting SMILES to torch_geometric Data instance for:  CCN1CCN(Cc2ccc(NC(=O)Nc3ccc(Oc4cc(NC)ncn4)cc3)cc2C(F)(F)F)CC1\n",
      "Number of nodes:  38\n",
      "Node features:  torch.Size([38, 9]) \n",
      "- example: tensor([6, 0, 4, 5, 3, 0, 4, 0, 0]) \n",
      "- out of classes:  [119, 9, 11, 12, 9, 5, 8, 2, 2]\n",
      "\n",
      "Number of edges:  82\n",
      "Edges have to be represented undirected as a COO tensor\n",
      "Edge features:  torch.Size([82, 3]) \n",
      "- example: tensor([1, 0, 0]) \n",
      "- out of classes:  [22, 6, 2]\n"
     ]
    },
    {
     "data": {
      "text/plain": [
       "Data(x=[38, 9], edge_index=[2, 82], edge_attr=[82, 3], smiles='CCN1CCN(Cc2ccc(NC(=O)Nc3ccc(Oc4cc(NC)ncn4)cc3)cc2C(F)(F)F)CC1')"
      ]
     },
     "execution_count": 16,
     "metadata": {},
     "output_type": "execute_result"
    }
   ],
   "source": [
    "from rdkit import Chem\n",
    "from rdkit.Chem import Draw\n",
    "from torch_geometric.data import DataLoader\n",
    "from encoding.DataEncoders import smiles2pydata\n",
    "\n",
    "BATCHE_SIZE = 16\n",
    "\n",
    "molecules_loader = DataLoader(\n",
    "    [smiles2pydata(m, with_hydrogen=False) for m in molecules], \n",
    "    batch_size=BATCHE_SIZE, \n",
    "    shuffle=True)\n",
    "\n",
    "example_index = 2\n",
    "print(\"Number of batches: \", len(molecules_loader), \"\\tsamples: \", len(molecules_loader.dataset))\n",
    "print(\"Max number of atoms (i.e. nodes): \", max([data.num_nodes for data in molecules_loader.dataset]))\n",
    "print(\"\\nExample molecule\", example_index, ': ', molecules[example_index])\n",
    "example_drug = smiles2pydata(molecules[example_index], with_hydrogen=False, give_description=True)\n",
    "for batch in molecules_loader:\n",
    "    example_drug_batch = batch\n",
    "    break\n",
    "\n",
    "num_node_features = example_drug.x.shape[1]\n",
    "num_edge_features = example_drug.edge_attr.shape[1]\n",
    "example_drug"
   ]
  },
  {
   "cell_type": "code",
   "execution_count": 8,
   "metadata": {},
   "outputs": [
    {
     "data": {
      "text/plain": [
       "DataBatch(x=[505, 9], edge_index=[2, 1112], edge_attr=[1112, 3], smiles=[16], batch=[505], ptr=[17])"
      ]
     },
     "execution_count": 8,
     "metadata": {},
     "output_type": "execute_result"
    }
   ],
   "source": [
    "example_drug_batch"
   ]
  },
  {
   "cell_type": "code",
   "execution_count": 19,
   "metadata": {},
   "outputs": [
    {
     "data": {
      "text/plain": [
       "torch.Size([1, 50, 50, 3])"
      ]
     },
     "execution_count": 19,
     "metadata": {},
     "output_type": "execute_result"
    }
   ],
   "source": [
    "from torch_geometric.utils import to_dense_adj\n",
    "to_dense_adj(\n",
    "    edge_index = example_drug.edge_index, \n",
    "    edge_attr = example_drug.edge_attr,\n",
    "    max_num_nodes=50\n",
    ").shape # also works in batches"
   ]
  },
  {
   "cell_type": "code",
   "execution_count": 13,
   "metadata": {},
   "outputs": [
    {
     "name": "stdout",
     "output_type": "stream",
     "text": [
      "Data:  torch.Size([38, 64]) torch.Size([2, 82]) torch.Size([82, 16])\n",
      "Embeddings:  torch.Size([38, 64]) torch.Size([82, 16])\n",
      "Output:  torch.Size([1, 512])\n",
      "First convolution:  torch.Size([38, 512]) torch.Size([2, 82]) torch.Size([82, 16])\n",
      "Output:  torch.Size([1, 512])\n",
      "\n",
      "Convolution:  torch.Size([38, 512]) torch.Size([2, 82]) torch.Size([82, 16])\n",
      "Pooling:  torch.Size([25, 512]) torch.Size([2, 52]) torch.Size([52, 16])\n",
      "Adjacency:  torch.Size([1, 25, 25])\n",
      "\n",
      "Convolution:  torch.Size([25, 512]) torch.Size([2, 52]) torch.Size([52, 16])\n",
      "Pooling:  torch.Size([12, 512]) torch.Size([2, 14]) torch.Size([14, 16])\n",
      "Adjacency:  torch.Size([1, 12, 12])\n",
      "\n",
      "Convolution:  torch.Size([12, 512]) torch.Size([2, 14]) torch.Size([14, 16])\n",
      "Pooling:  torch.Size([6, 512]) torch.Size([2, 8]) torch.Size([8, 16])\n",
      "Adjacency:  torch.Size([1, 6, 6])\n",
      "\n",
      "Mu and logstd:  torch.Size([1, 64]) torch.Size([1, 64])\n",
      "\n",
      "Adjacency matrices:  [torch.Size([1, 25, 25]), torch.Size([1, 12, 12]), torch.Size([1, 6, 6])]\n"
     ]
    }
   ],
   "source": [
    "from models.MolecularGraphVAE import MolGraphVAEncoder\n",
    "\n",
    "encoder_model = MolGraphVAEncoder(subgraphs=[25, 12, 6])\n",
    "mean, logvar, adj_matrices = encoder_model(example_drug, debug=True)\n",
    "print(\"\\nMu and logstd: \", mean.shape, logvar.shape)\n",
    "print(\"\\nAdjacency matrices: \", [a.shape for a in adj_matrices])"
   ]
  },
  {
   "cell_type": "code",
   "execution_count": 15,
   "metadata": {},
   "outputs": [
    {
     "name": "stdout",
     "output_type": "stream",
     "text": [
      "Data:  torch.Size([505, 64]) torch.Size([2, 1112]) torch.Size([1112, 16])\n",
      "Embeddings:  torch.Size([505, 64]) torch.Size([1112, 16])\n",
      "Output:  torch.Size([16, 512])\n",
      "First convolution:  torch.Size([505, 512]) torch.Size([2, 1112]) torch.Size([1112, 16])\n",
      "Output:  torch.Size([16, 512])\n",
      "\n",
      "Convolution:  torch.Size([505, 512]) torch.Size([2, 1112]) torch.Size([1112, 16])\n",
      "Pooling:  torch.Size([398, 512]) torch.Size([2, 812]) torch.Size([812, 16])\n",
      "Adjacency:  torch.Size([16, 25, 25])\n",
      "\n",
      "Convolution:  torch.Size([398, 512]) torch.Size([2, 812]) torch.Size([812, 16])\n",
      "Pooling:  torch.Size([192, 512]) torch.Size([2, 300]) torch.Size([300, 16])\n",
      "Adjacency:  torch.Size([16, 12, 12])\n",
      "\n",
      "Convolution:  torch.Size([192, 512]) torch.Size([2, 300]) torch.Size([300, 16])\n",
      "Pooling:  torch.Size([96, 512]) torch.Size([2, 112]) torch.Size([112, 16])\n",
      "Adjacency:  torch.Size([16, 6, 6])\n",
      "\n",
      "Mu and logstd:  torch.Size([16, 64]) torch.Size([16, 64])\n",
      "Adjacency matrices:  [torch.Size([16, 25, 25]), torch.Size([16, 12, 12]), torch.Size([16, 6, 6])]\n"
     ]
    },
    {
     "data": {
      "text/plain": [
       "16"
      ]
     },
     "execution_count": 15,
     "metadata": {},
     "output_type": "execute_result"
    }
   ],
   "source": [
    "mean, logvar, adj_matrices = encoder_model(example_drug_batch, debug=True)\n",
    "print(\"\\nMu and logstd: \", mean.shape, logvar.shape)\n",
    "print(\"Adjacency matrices: \", [a.shape for a in adj_matrices])\n",
    "len(example_drug_batch)"
   ]
  },
  {
   "cell_type": "code",
   "execution_count": 45,
   "metadata": {},
   "outputs": [
    {
     "name": "stdout",
     "output_type": "stream",
     "text": [
      "400\n"
     ]
    },
    {
     "data": {
      "text/plain": [
       "380"
      ]
     },
     "execution_count": 45,
     "metadata": {},
     "output_type": "execute_result"
    }
   ],
   "source": [
    "# nn.Linear(hidden_dim, 2*n_nodes*(n_nodes-1)//2)\n",
    "n_nodes = 20\n",
    "print(n_nodes * n_nodes)\n",
    "2 * n_nodes * (n_nodes - 1) // 2"
   ]
  },
  {
   "cell_type": "code",
   "execution_count": 43,
   "metadata": {},
   "outputs": [
    {
     "data": {
      "text/plain": [
       "36672"
      ]
     },
     "execution_count": 43,
     "metadata": {},
     "output_type": "execute_result"
    }
   ],
   "source": [
    "n_nodes ** 2 - n_nodes"
   ]
  },
  {
   "cell_type": "code",
   "execution_count": 33,
   "metadata": {},
   "outputs": [
    {
     "name": "stdout",
     "output_type": "stream",
     "text": [
      "torch.Size([1, 90])\n",
      "torch.Size([1, 45, 2])\n",
      "tensor([[0.9608, 0.9458],\n",
      "        [0.2710, 0.5806],\n",
      "        [0.7778, 0.4239],\n",
      "        [0.3366, 0.3117],\n",
      "        [0.1658, 0.5095]])\n",
      "torch.Size([1, 45])\n",
      "tensor([0., 1., 1., 1., 0.])\n",
      "torch.Size([1, 10, 10])\n",
      "tensor([[[0., 0., 1., 1., 1., 0., 0., 0., 0., 0.],\n",
      "         [0., 0., 1., 0., 1., 1., 0., 1., 1., 0.],\n",
      "         [0., 0., 0., 0., 0., 0., 1., 1., 1., 1.],\n",
      "         [0., 0., 0., 0., 0., 0., 0., 0., 0., 1.],\n",
      "         [0., 0., 0., 0., 0., 1., 1., 1., 0., 0.],\n",
      "         [0., 0., 0., 0., 0., 0., 0., 0., 1., 0.],\n",
      "         [0., 0., 0., 0., 0., 0., 0., 1., 1., 0.],\n",
      "         [0., 0., 0., 0., 0., 0., 0., 0., 1., 1.],\n",
      "         [0., 0., 0., 0., 0., 0., 0., 0., 0., 1.],\n",
      "         [0., 0., 0., 0., 0., 0., 0., 0., 0., 0.]]])\n",
      "tensor([[[0., 0., 1., 1., 1., 0., 0., 0., 0., 0.],\n",
      "         [0., 0., 1., 0., 1., 1., 0., 1., 1., 0.],\n",
      "         [1., 1., 0., 0., 0., 0., 1., 1., 1., 1.],\n",
      "         [1., 0., 0., 0., 0., 0., 0., 0., 0., 1.],\n",
      "         [1., 1., 0., 0., 0., 1., 1., 1., 0., 0.],\n",
      "         [0., 1., 0., 0., 1., 0., 0., 0., 1., 0.],\n",
      "         [0., 0., 1., 0., 1., 0., 0., 1., 1., 0.],\n",
      "         [0., 1., 1., 0., 1., 0., 1., 0., 1., 1.],\n",
      "         [0., 1., 1., 0., 0., 1., 1., 1., 0., 1.],\n",
      "         [0., 0., 1., 1., 0., 0., 0., 1., 1., 0.]]])\n"
     ]
    }
   ],
   "source": [
    "fc_result = torch.rand(1, 2 * n_nodes * (n_nodes - 1) // 2)\n",
    "print(fc_result.shape)\n",
    "\n",
    "x = torch.reshape(fc_result, (fc_result.size(0), -1, 2))\n",
    "print(x.shape)\n",
    "print(x[0][:5])\n",
    "\n",
    "x = torch.nn.functional.gumbel_softmax(\n",
    "            x, tau=1, hard=True)[:,:,0] # sample from categorical distribution\n",
    "print(x.shape)\n",
    "print(x[0][:5])\n",
    "\n",
    "adj = torch.zeros(x.size(0), n_nodes, n_nodes) # empty adjacency matrix\n",
    "print(adj.shape)\n",
    "\n",
    "idx = torch.triu_indices(n_nodes, n_nodes, 1)\n",
    "adj[:, idx[0], idx[1]] = x\n",
    "print(adj)\n",
    "adj = adj + torch.transpose(adj, 1, 2)\n",
    "print(adj)"
   ]
  },
  {
   "cell_type": "markdown",
   "metadata": {},
   "source": [
    "---\n",
    "---\n",
    "---"
   ]
  },
  {
   "cell_type": "code",
   "execution_count": 218,
   "metadata": {},
   "outputs": [
    {
     "name": "stdout",
     "output_type": "stream",
     "text": [
      "Epoch 1, Loss: 2.624526047706604\n",
      "Epoch 2, Loss: 1.4406317472457886\n",
      "Epoch 3, Loss: 1.285384440422058\n",
      "Epoch 4, Loss: 1.2970892906188964\n",
      "Epoch 5, Loss: 1.2825347423553466\n",
      "Epoch 6, Loss: 1.2505077600479126\n",
      "Epoch 7, Loss: 1.2233814001083374\n",
      "Epoch 8, Loss: 1.2196834325790404\n",
      "Epoch 9, Loss: 1.2311196804046631\n",
      "Epoch 10, Loss: 1.2034215688705445\n",
      "Epoch 11, Loss: 1.2116324663162232\n",
      "Epoch 12, Loss: 1.1705181121826171\n",
      "Epoch 13, Loss: 1.1873178005218505\n",
      "Epoch 14, Loss: 1.177670955657959\n",
      "Epoch 15, Loss: 1.1681327819824219\n",
      "Epoch 16, Loss: 1.1502191543579101\n",
      "Epoch 17, Loss: 1.1602381229400636\n",
      "Epoch 18, Loss: 1.1932204961776733\n",
      "Epoch 19, Loss: 1.1582868337631225\n",
      "Epoch 20, Loss: 1.1721254348754884\n",
      "Epoch 21, Loss: 1.1418792724609375\n",
      "Epoch 22, Loss: 1.1283941745758057\n",
      "Epoch 23, Loss: 1.1330655097961426\n",
      "Epoch 24, Loss: 1.1296535730361938\n",
      "Epoch 25, Loss: 1.1393168210983275\n",
      "Epoch 26, Loss: 1.1348979949951172\n",
      "Epoch 27, Loss: 1.1351196765899658\n",
      "Epoch 28, Loss: 1.1524305105209351\n",
      "Epoch 29, Loss: 1.1204577207565307\n",
      "Epoch 30, Loss: 1.130757713317871\n",
      "Epoch 31, Loss: 1.1176361560821533\n",
      "Epoch 32, Loss: 1.0937654733657838\n",
      "Epoch 33, Loss: 1.1057122945785522\n",
      "Epoch 34, Loss: 1.1042410850524902\n",
      "Epoch 35, Loss: 1.0865105152130128\n",
      "Epoch 36, Loss: 1.0916707992553711\n",
      "Epoch 37, Loss: 1.0830695867538451\n",
      "Epoch 38, Loss: 1.0947139501571654\n",
      "Epoch 39, Loss: 1.1212739944458008\n",
      "Epoch 40, Loss: 1.0908706665039063\n",
      "Epoch 41, Loss: 1.0741235256195067\n",
      "Epoch 42, Loss: 1.0810073137283325\n",
      "Epoch 43, Loss: 1.077902865409851\n",
      "Epoch 44, Loss: 1.1019856214523316\n",
      "Epoch 45, Loss: 1.0761789321899413\n",
      "Epoch 46, Loss: 1.067282748222351\n",
      "Epoch 47, Loss: 1.0712888717651368\n",
      "Epoch 48, Loss: 1.0876656293869018\n",
      "Epoch 49, Loss: 1.0805081605911255\n",
      "Epoch 50, Loss: 1.077791953086853\n"
     ]
    }
   ],
   "source": [
    "import torch.optim as optim\n",
    "from torch_geometric.utils import negative_sampling\n",
    "\n",
    "def train(model, data_loader, epochs=50):\n",
    "    optimizer = optim.Adam(model.parameters(), lr=0.01)\n",
    "    \n",
    "    for epoch in range(epochs):\n",
    "        model.train()\n",
    "        total_loss = 0\n",
    "\n",
    "        for data in data_loader:\n",
    "            optimizer.zero_grad()\n",
    "            z = model.encode(data)\n",
    "            loss = model.recon_loss(z, data.edge_index)\n",
    "            loss = loss + (1 / data.num_nodes) * model.kl_loss()\n",
    "            loss.backward()\n",
    "            optimizer.step()\n",
    "\n",
    "            total_loss += loss.item()\n",
    "        print(f'Epoch {epoch+1}, Loss: {total_loss/len(data_loader)}')\n",
    "\n",
    "model = VGAE(VariationalGATEncoder(in_channels=example.x.shape[-1], hidden_channels=32, latent_dim=16))\n",
    "# model = model.to(device)\n",
    "train(model, train_loader)"
   ]
  },
  {
   "cell_type": "code",
   "execution_count": 206,
   "metadata": {},
   "outputs": [
    {
     "data": {
      "image/png": "[encoded data removed]",
      "text/plain": [
       "<Figure size 800x800 with 2 Axes>"
      ]
     },
     "metadata": {},
     "output_type": "display_data"
    }
   ],
   "source": [
    "from sklearn.manifold import TSNE\n",
    "import matplotlib.pyplot as plt\n",
    "\n",
    "# Assuming 'z' is your latent space encoding\n",
    "def visualize_latent_space(embeddings, labels=None):\n",
    "    tsne = TSNE(n_components=2, perplexity=30, n_iter=300)\n",
    "    z_2d = tsne.fit_transform(embeddings.cpu().detach().numpy())\n",
    "\n",
    "    plt.figure(figsize=(8, 8))\n",
    "    plt.scatter(z_2d[:, 0], z_2d[:, 1], c=labels, cmap='viridis', s=15)\n",
    "    plt.colorbar()\n",
    "    plt.show()\n",
    "\n",
    "# Sample latent space embeddings from your VGAE\n",
    "model.eval()\n",
    "with torch.no_grad():\n",
    "    embeddings = []\n",
    "    for data in train_loader:\n",
    "        _, z = model(data)\n",
    "        embeddings.append(z)\n",
    "    embeddings = torch.cat(embeddings, dim=0)\n",
    "\n",
    "# Visualize the latent space (assuming no specific labels for molecules)\n",
    "visualize_latent_space(embeddings)"
   ]
  },
  {
   "cell_type": "markdown",
   "metadata": {},
   "source": [
    "TaniMoto similarity, fingerprints om smiles strings te vergelijken en zo te zien of deze embedding-space iteressant is.\n",
    "\n",
    "Presentatie in december!"
   ]
  },
  {
   "cell_type": "code",
   "execution_count": 165,
   "metadata": {},
   "outputs": [
    {
     "data": {
      "text/plain": [
       "torch.Size([253, 253])"
      ]
     },
     "execution_count": 165,
     "metadata": {},
     "output_type": "execute_result"
    }
   ],
   "source": [
    "def sample_latent_space(mu, logvar):\n",
    "    std = torch.exp(0.5 * logvar)\n",
    "    eps = torch.randn_like(std)  # Standard normal distribution\n",
    "    return mu + eps * std\n",
    "\n",
    "mu, logvar = vgae_model.encoder(data.x, data.edge_index)\n",
    "z_sampled = sample_latent_space(mu, logvar)\n",
    "reconstructed_adj = vgae_model.decoder(z_sampled)\n",
    "adj_pred = (reconstructed_adj > 0.5).float()  # Threshold to get binary adjacency matrix"
   ]
  },
  {
   "cell_type": "markdown",
   "metadata": {},
   "source": [
    "---\n",
    "---"
   ]
  },
  {
   "cell_type": "code",
   "execution_count": 204,
   "metadata": {},
   "outputs": [
    {
     "name": "stdout",
     "output_type": "stream",
     "text": [
      "['Cc1[nH]nc2ccc(-c3cncc(OCC(N)Cc4ccccc4)c3)cc12'\n",
      " 'CC(C)(C)c1cc(NC(=O)Nc2ccc(-c3cn4c(n3)sc3cc(OCCN5CCOCC5)ccc34)cc2)no1'\n",
      " 'CCN1CCN(Cc2ccc(NC(=O)Nc3ccc(Oc4cc(NC)ncn4)cc3)cc2C(F)(F)F)CC1'\n",
      " 'O=C(NC1CCNCC1)c1[nH]ncc1NC(=O)c1c(Cl)cccc1Cl'\n",
      " 'CN(C)CC=CC(=O)Nc1cc2c(Nc3ccc(F)c(Cl)c3)ncnc2cc1OC1CCOC1'\n",
      " 'CN1CCC(c2c(O)cc(O)c3c(=O)cc(-c4ccccc4Cl)oc23)C(O)C1'\n",
      " 'CNC(=O)c1ccccc1Sc1ccc2c(C=Cc3ccccn3)n[nH]c2c1'\n",
      " 'CCC1C(=O)N(C)c2cnc(Nc3ccc(C(=O)NC4CCN(C)CC4)cc3OC)nc2N1C1CCCC1'\n",
      " 'Cc1ccc2nc(NCCN)c3ncc(C)n3c2c1.Cl'\n",
      " 'CCN(CCO)CCCOc1ccc2c(Nc3cc(CC(=O)Nc4cccc(F)c4)[nH]n3)ncnc2c1'\n",
      " 'COc1cc(Nc2c(C#N)cnc3cc(OCCCN4CCN(C)CC4)c(OC)cc23)c(Cl)cc1Cl'\n",
      " 'Cc1cc2c(F)c(Oc3ncnn4cc(OCC(C)O)c(C)c34)ccc2[nH]1'\n",
      " 'Cn1c(Nc2ccc(C(F)(F)F)cc2)nc2cc(Oc3ccnc(-c4ncc(C(F)(F)F)[nH]4)c3)ccc21'\n",
      " 'O=C(NOCC1CC1)c1ccc(F)c(F)c1Nc1ccc(I)cc1Cl'\n",
      " 'C=CC(=O)Nc1cc2c(Nc3ccc(F)c(Cl)c3)ncnc2cc1OCCCN1CCOCC1'\n",
      " 'COc1cc2c(Oc3ccc4[nH]c(C)cc4c3F)ncnc2cc1OCCCN1CCCC1'\n",
      " 'CC(Oc1cc(-c2cnn(C3CCNCC3)c2)cnc1N)c1c(Cl)ccc(F)c1Cl'\n",
      " 'Cc1nc(Nc2ncc(C(=O)Nc3c(C)cccc3Cl)s2)cc(N2CCN(CCO)CC2)n1'\n",
      " 'Cc1ccc(-n2nc(C(C)(C)C)cc2NC(=O)Nc2ccc(OCCN3CCOCC3)c3ccccc23)cc1'\n",
      " 'CC(O)C(=O)O.CN1CCN(c2ccc3c(c2)NC(=C2C(=O)N=c4cccc(F)c4=C2N)N3)CC1.O'\n",
      " 'Cn1cc(C2=C(c3cn(C4CCN(Cc5ccccn5)CC4)c4ccccc34)C(=O)NC2=O)c2ccccc21'\n",
      " 'C#Cc1cccc(Nc2ncnc3cc(OCCOC)c(OCCOC)cc23)c1'\n",
      " 'COc1cc2c(Oc3ccc(NC(=O)C4(C(=O)Nc5ccc(F)cc5)CC4)cc3F)ccnc2cc1OCCCN1CCOCC1'\n",
      " 'OCCn1cc(-c2ccc3c(c2)CCC3=NO)c(-c2ccncc2)n1'\n",
      " 'CCn1c(-c2nonc2N)nc2c(C#CC(C)(C)O)ncc(OCC3CCCNC3)c21'\n",
      " 'COc1ccc(COc2ccc(Cc3cnc(N)nc3N)cc2OC)cc1'\n",
      " 'COc1cc2ncnc(Nc3ccc(F)c(Cl)c3)c2cc1OCCCN1CCOCC1'\n",
      " 'Cc1ccc(NC(=O)c2ccc(CN3CCN(C)CC3)cc2)cc1Nc1nccc(-c2cccnc2)n1'\n",
      " 'CN1CCN(C(=O)c2cc3cc(Cl)ccc3[nH]2)CC1'\n",
      " 'O=C(c1ccc(C=Cc2n[nH]c3ccccc23)cc1)N1CCNCC1'\n",
      " 'CS(=O)(=O)CCNCc1ccc(-c2ccc3ncnc(Nc4ccc(OCc5cccc(F)c5)c(Cl)c4)c3c2)o1'\n",
      " 'CC12OC(CC1(O)CO)n1c3ccccc3c3c4c(c5c6ccccc6n2c5c31)CNC4=O'\n",
      " 'Cc1ccc(F)c(NC(=O)Nc2ccc(-c3cccc4[nH]nc(N)c34)cc2)c1'\n",
      " 'COc1c(Cl)cc2c([nH]c3cnccc32)c1NC(=O)c1cccnc1C'\n",
      " 'O=C(O)c1ccc(Nc2ncc3c(n2)-c2ccc(Cl)cc2C(c2c(F)cccc2F)=NC3)cc1'\n",
      " 'Cc1ccc(NC(=O)c2ccc(CN3CCN(C)CC3)cc2)cc1Nc1nc(-c2cccnc2)cs1'\n",
      " 'COC1C(N(C)C(=O)c2ccccc2)CC2OC1(C)n1c3ccccc3c3c4c(c5c6ccccc6n2c5c31)C(=O)NC4'\n",
      " 'CC1(C)CNc2cc(NC(=O)c3cccnc3NCc3ccncc3)ccc21'\n",
      " 'CCOc1cc2ncc(C#N)c(Nc3ccc(OCc4ccccn4)c(Cl)c3)c2cc1NC(=O)C=CCN(C)C'\n",
      " 'Cc1cn(-c2cc(NC(=O)c3ccc(C)c(Nc4nccc(-c5cccnc5)n4)c3)cc(C(F)(F)F)c2)cn1'\n",
      " 'CSc1cccc(Nc2ncc3cc(-c4c(Cl)cccc4Cl)c(=O)n(C)c3n2)c1'\n",
      " 'Cc1[nH]c(C=C2C(=O)Nc3ccc(S(=O)(=O)Cc4c(Cl)cccc4Cl)cc32)c(C)c1C(=O)N1CCCC1CN1CCCC1'\n",
      " 'Oc1cccc(-c2nc(N3CCOCC3)c3oc4ncccc4c3n2)c1'\n",
      " 'CCCS(=O)(=O)Nc1ccc(F)c(C(=O)c2c[nH]c3ncc(Cl)cc23)c1F'\n",
      " 'CC(C)N1NC(=C2C=c3cc(O)ccc3=N2)c2c(N)ncnc21'\n",
      " 'Cc1ccc(Nc2nccc(N(C)c3ccc4c(C)n(C)nc4c3)n2)cc1S(N)(=O)=O'\n",
      " 'CS(=O)(=O)N1CCN(Cc2cc3nc(-c4cccc5[nH]ncc45)nc(N4CCOCC4)c3s2)CC1'\n",
      " 'COc1cc(Nc2ncc(F)c(Nc3ccc4c(n3)NC(=O)C(C)(C)O4)n2)cc(OC)c1OC.O=S(=O)(O)c1ccccc1'\n",
      " 'CN(C)CC1CCn2cc(c3ccccc32)C2=C(C(=O)NC2=O)c2cn(c3ccccc23)CCO1'\n",
      " 'N#CCC(C1CCCC1)n1cc(-c2ncnc3[nH]ccc23)cn1.O=P(O)(O)O'\n",
      " 'CS(=O)c1ccc(-c2nc(-c3ccc(F)cc3)c(-c3ccncc3)[nH]2)cc1'\n",
      " 'Cn1cc(-c2ccc3nnc(Sc4ccc5ncccc5c4)n3n2)cn1'\n",
      " 'CC(C)(C)c1cnc(CSc2cnc(NC(=O)C3CCNCC3)s2)o1'\n",
      " 'Cc1[nH]c(C=C2C(=O)Nc3ccc(F)cc32)c(C)c1C(=O)NCC(O)CN1CCOCC1'\n",
      " 'Cn1cnc2c(F)c(Nc3ccc(Br)cc3Cl)c(C(=O)NOCCO)cc21'\n",
      " 'CNC(=O)c1cc(Oc2ccc(NC(=O)Nc3ccc(Cl)c(C(F)(F)F)c3)cc2)ccn1'\n",
      " 'CNC1CC2OC(C)(C1OC)n1c3ccccc3c3c4c(c5c6ccccc6n2c5c31)C(=O)NC4'\n",
      " 'CCN(CC)CCNC(=O)c1c(C)[nH]c(C=C2C(=O)Nc3ccc(F)cc32)c1C'\n",
      " 'COc1cc(N2CCC(N3CCN(C)CC3)CC2)ccc1Nc1ncc(Cl)c(Nc2ccccc2S(=O)(=O)C(C)C)n1'\n",
      " 'Nc1nc(N)c2nc(-c3cccc(O)c3)c(-c3cccc(O)c3)nc2n1'\n",
      " 'Cc1cnc(Nc2ccc(OCCN3CCCC3)cc2)nc1Nc1cccc(S(=O)(=O)NC(C)(C)C)c1'\n",
      " 'COc1cc2c(N3CCN(C(=O)Nc4ccc(OC(C)C)cc4)CC3)ncnc2cc1OCCCN1CCCCC1'\n",
      " 'CC1CCN(C(=O)CC#N)CC1N(C)c1ncnc2[nH]ccc12'\n",
      " 'Cc1cc(Nc2cc(N3CCN(C)CC3)nc(Sc3ccc(NC(=O)C4CC4)cc3)n2)n[nH]1'\n",
      " 'O=c1ncn2nc(Sc3ccc(F)cc3F)ccc2c1-c1c(Cl)cccc1Cl'\n",
      " 'COc1cc2c(Nc3ccc(Br)cc3F)ncnc2cc1OCC1CCN(C)CC1'\n",
      " 'COC(=O)c1ccc2c(c1)NC(=O)C2=C(Nc1ccc(N(C)C(=O)CN2CCN(C)CC2)cc1)c1ccccc1'\n",
      " 'Clc1ccc(Nc2nnc(Cc3ccncc3)c3ccccc23)cc1']\n",
      "['MKKFFDSRREQGGSGLGSGSSGGGGSTSGLGSGYIGRVFGIGRQQVTVDEVLAEGGFAIVFLVRTSNGMKCALKRMFVNNEHDLQVCKREIQIMRDLSGHKNIVGYIDSSINNVSSGDVWEVLILMDFCRGGQVVNLMNQRLQTGFTENEVLQIFCDTCEAVARLHQCKTPIIHRDLKVENILLHDRGHYVLCDFGSATNKFQNPQTEGVNAVEDEIKKYTTLSYRAPEMVNLYSGKIITTKADIWALGCLLYKLCYFTLPFGESQVAICDGNFTIPDNSRYSQDMHCLIRYMLEPDPDKRPDIYQVSYFSFKLLKKECPIPNVQNSPIPAKLPEPVKASEAAAKKTQPKARLTDPIPTTETSIAPRQRPKAGQTQPNPGILPIQPALTPRKRATVQPPPQAAGSSNQPGLLASVPQPKPQAPPSQPLPQTQAKQPQAPPTPQQTPSTQAQGLPAQAQATPQHQQQLFLKQQQQQQQPPPAQQQPAGTFYQQQQAQTQQFQAVHPATQKPAIAQFPVVSQGGSQQQLMQNFYQQQQQQQQQQQQQQLATALHQQQLMTQQAALQQKPTMAAGQQPQPQPAAAPQPAPAQEPAIQAPVRQQPKVQTTPPPAVQGQKVGSLTPPSSPKTQRAGHRRILSDVTHSAVFGVPASKSTQLLQAAAAEASLNKSKSATTTPSGSPRTSQQNVYNPSEGSTWNPFDDDNFSKLTAEELLNKDFAKLGEGKHPEKLGGSAESLIPGFQSTQGDAFATTSFSAGTAEKRKGGQTVDSGLPLLSVSDPFIPLQVPDAPEKLIEGLKSPDTSLLLPDLLPMTDPFGSTSDAVIEKADVAVESLIPGLEPPVPQRLPSQTESVTSNRTDSLTGEDSLLDCSLLSNPTTDLLEEFAPTAISAPVHKAAEDSNLISGFDVPEGSDKVAEDEFDPIPVLITKNPQGGHSRNSSGSSESSLPNLARSLLLVDQLIDL'\n",
      " 'PFWKILNPLLERGTYYYFMGQQPGKVLGDQRRPSLPALHFIKGAGKKESSRHGGPHCNVFVEHEALQRPVASDFEPQGLSEAARWNSKENLLAGPSENDPNLFVALYDFVASGDNTLSITKGEKLRVLGYNHNGEWCEAQTKNGQGWVPSNYITPVNSLEKHSWYHGPVSRNAAEYLLSSGINGSFLVRESESSPGQRSISLRYEGRVYHYRINTASDGKLYVSSESRFNTLAELVHHHSTVADGLITTLHYPAPKRNKPTVYGVSPNYDKWEMERTDITMKHKLGGGQYGEVYEGVWKKYSLTVAVKTLKEDTMEVEEFLKEAAVMKEIKHPNLVQLLGVCTREPPFYIITEFMTYGNLLDYLRECNRQEVNAVVLLYMATQISSAMEYLEKKNFIHRDLAARNCLVGENHLVKVADFGLSRLMTGDTYTAHAGAKFPIKWTAPESLAYNKFSIKSDVWAFGVLLWEIATYGMSPYPGIDLSQVYELLEKDYRMERPEGCPEKVYELMRACWQWNPSDRPSFAEIHQAFETMFQESSISDEVEKELGKQGVRGAVSTLLQAPELPTKTRTSRRAAEHRDTTDVPEMPHSKGQGESDPLDHEPAVSPLLPRKERGPPEGGLNEDERLLPKDKKTNLFSALIKKKKKTAPTPPKRSSSFREMDGQPERRGAGEEEGRDISNGALAFTPLDTADPAKSPKPSNGAGVPNGALRESGGSGFRSPHLWKKSSTLTSSRLATGEEEGGGSSSKRFLRSCSASCVPHGAKDTEWRSVTLPRDLQSTGRQFDSSTFGGHKSEKPALPRKRAGENRSDQVTRGTVTPPPRLVKKNEEAADEVFKDIMESSPGSSPPNLTPKPLRRQVTVAPASGLPHKEEAGKGSALGTPAAAEPVTPTSKAGSGAPGGTSKGPAEESRVRRHKHSSESPGRDKGKLSRLKPAPPPPPAASAGKAGGKPSQSPSQEAAGEAVLGAKTKATSLVDAVNSDAAKPSQPGEGLKKPVLPATPKPQSAKPSGTPISPAPVPSTLPSASSALAGDQPSSTAFIPLISTRVSLRKTRQPPERIASGAITKGVVLDSTEALCLAISRNSEQMASHSAVLEAGKNLYTFCVSYVDSIQQMRNKFAFREAINKLENNLRELQICPATAGSGPAATQDFSKLLSSVKEISDIVQR'\n",
      " 'MVLGTVLLPPNSYGRDQDTSLCCLCTEASESALPDLTDHFASCVEDGFEGDKTGGSSPEALHRPYGCDVEPQALNEAIRWSSKENLLGATESDPNLFVALYDFVASGDNTLSITKGEKLRVLGYNQNGEWSEVRSKNGQGWVPSNYITPVNSLEKHSWYHGPVSRSAAEYLLSSLINGSFLVRESESSPGQLSISLRYEGRVYHYRINTTADGKVYVTAESRFSTLAELVHHHSTVADGLVTTLHYPAPKCNKPTVYGVSPIHDKWEMERTDITMKHKLGGGQYGEVYVGVWKKYSLTVAVKTLKEDTMEVEEFLKEAAVMKEIKHPNLVQLLGVCTLEPPFYIVTEYMPYGNLLDYLRECNREEVTAVVLLYMATQISSAMEYLEKKNFIHRDLAARNCLVGENHVVKVADFGLSRLMTGDTYTAHAGAKFPIKWTAPESLAYNTFSIKSDVWAFGVLLWEIATYGMSPYPGIDLSQVYDLLEKGYRMEQPEGCPPKVYELMRACWKWSPADRPSFAETHQAFETMFHDSSISEEVAEELGRAASSSSVVPYLPRLPILPSKTRTLKKQVENKENIEGAQDATENSASSLAPGFIRGAQASSGSPALPRKQRDKSPSSLLEDAKETCFTRDRKGGFFSSFMKKRNAPTPPKRSSSFREMENQPHKKYELTGNFSSVASLQHADGFSFTPAQQEANLVPPKCYGGSFAQRNLCNDDGGGGGGSGTAGGGWSGITGFFTPRLIKKTLGLRAGKPTASDDTSKPFPRSNSTSSMSSGLPEQDRMAMTLPRNCQRSKLQLERTVSTSSQPEENVDRANDMLPKKSEESAAPSRERPKAKLLPRGATALPLRTPSGDLAITEKDPPGVGVAGVAAAPKGKEKNGGARLGMAGVPEDGEQPGWPSPAKAAPVLPTTHNHKVPVLISPTLKHTPADVQLIGTDSQGNKFKLLSEHQVTSSGDKDRPRRVKPKCAPPPPPVMRLLQHPSICSDPTEEPTALTAGQSTSETQEGGKKAALGAVPISGKAGRPVMPPPQVPLPTSSISPAKMANGTAGTKVALRKTKQAAEKISADKISKEALLECADLLSSALTEPVPNSQLVDTGHQLLDYCSGYVDCIPQTRNKFAFREAVSKLELSLQELQVSSAAAGVPGTNPVLNNLLSCVQEISDVVQR'\n",
      " 'MVDGVMILPVLIMIALPSPSMEDEKPKVNPKLYMCVCEGLSCGNEDHCEGQQCFSSLSINDGFHVYQKGCFQVYEQGKMTCKTPPSPGQAVECCQGDWCNRNITAQLPTKGKSFPGTQNFHLEVGLIILSVVFAVCLLACLLGVALRKFKRRNQERLNPRDVEYGTIEGLITTNVGDSTLADLLDHSCTSGSGSGLPFLVQRTVARQITLLECVGKGRYGEVWRGSWQGENVAVKIFSSRDEKSWFRETELYNTVMLRHENILGFIASDMTSRHSSTQLWLITHYHEMGSLYDYLQLTTLDTVSCLRIVLSIASGLAHLHIEIFGTQGKPAIAHRDLKSKNILVKKNGQCCIADLGLAVMHSQSTNQLDVGNNPRVGTKRYMAPEVLDETIQVDCFDSYKRVDIWAFGLVLWEVARRMVSNGIVEDYKPPFYDVVPNDPSFEDMRKVVCVDQQRPNIPNRWFSDPTLTSLAKLMKECWYQNPSARLTALRIKKTLTKIDNSLDKLKTDC'\n",
      " 'MGAAAKLAFAVFLISCSSGAILGRSETQECLFFNANWEKDRTNQTGVEPCYGDKDKRRHCFATWKNISGSIEIVKQGCWLDDINCYDRTDCVEKKDSPEVYFCCCEGNMCNEKFSYFPEMEVTQPTSNPVTPKPPYYNILLYSLVPLMLIAGIVICAFWVYRHHKMAYPPVLVPTQDPGPPPPSPLLGLKPLQLLEVKARGRFGCVWKAQLLNEYVAVKIFPIQDKQSWQNEYEVYSLPGMKHENILQFIGAEKRGTSVDVDLWLITAFHEKGSLSDFLKANVVSWNELCHIAETMARGLAYLHEDIPGLKDGHKPAISHRDIKSKNVLLKNNLTACIADFGLALKFEAGKSAGDTHGQVGTRRYMAPEVLEGAINFQRDAFLRIDMYAMGLVLWELASRCTAADGPVDEYMLPFEEEIGQHPSLEDMQEVVVHKKKRPVLRDYWQKHAGMAMLCETIEECWDHDAEARLSAGCVGERITQMQRLTNIITTEDIVTVVTMVTNVDFPPKESSL']\n",
      "[   43. 10000. 10000. 10000. 10000.]\n"
     ]
    }
   ],
   "source": [
    "drugs = split['train']['Drug'].unique()\n",
    "print(drugs)\n",
    "\n",
    "prots = split['train']['Target'].values[0:5]\n",
    "print(prots)\n",
    "\n",
    "ys = split['train']['Y'].values[0:5]\n",
    "print(ys)"
   ]
  },
  {
   "cell_type": "code",
   "execution_count": 205,
   "metadata": {},
   "outputs": [
    {
     "name": "stdout",
     "output_type": "stream",
     "text": [
      "Drugs:\n",
      "torch.Size([68, 81, 57])\n",
      "Proteins:\n",
      "torch.Size([5, 2549, 25])\n"
     ]
    }
   ],
   "source": [
    "import numpy as np\n",
    "from smiles_encoder import SmilesEncoder\n",
    "import blosum as bl\n",
    "\n",
    "\n",
    "SMILES_encoder = SmilesEncoder(list(split['train']['Drug'].unique()))\n",
    "\n",
    "\n",
    "def encode_drugs(drugs, encoder = SMILES_encoder, padding = True, size = None):\n",
    "    \"\"\"\n",
    "    Encodes a batch of drug sequences using the SMILES_encoder.\n",
    "\n",
    "    Parameters\n",
    "    ----------\n",
    "    drug : list of str\n",
    "        The list of drug sequences to encode.\n",
    "    encoder : SmilesEncoder\n",
    "        The SMILES_encoder to use. Default is SMILES_encoder.\n",
    "    padding : bool\n",
    "        Whether to pad the sequences with zeros if they are shorter than the specified size. Default is True.\n",
    "    size : int or None\n",
    "        The maximum length of the encoded sequences. If None, it will be set to the length of the longest sequence.\n",
    "\n",
    "    Returns\n",
    "    -------\n",
    "    torch.Tensor\n",
    "        A tensor of shape (instances, seq_len, features).\n",
    "    \"\"\"\n",
    "    vocab_size = len(encoder.element_dict.keys())\n",
    "    # Determine the maximum sequence length\n",
    "    if size is None:\n",
    "        size = max(len(seq) for seq in drugs)\n",
    "\n",
    "    # Initialize a list to hold the encoded sequences\n",
    "    encoded_sequences = []\n",
    "\n",
    "    for drug in drugs:\n",
    "        encoding = encoder.encode(drug)\n",
    "        \n",
    "        # If padding is enabled and the sequence is shorter than the specified size\n",
    "        if padding:\n",
    "            to_pad = size - len(encoding)\n",
    "            padding_array = np.zeros((to_pad, vocab_size))\n",
    "            encoding = np.vstack((encoding, padding_array))\n",
    "\n",
    "        encoded_sequences.append(encoding)\n",
    "\n",
    "    return torch.tensor(np.array(encoded_sequences))\n",
    "\n",
    "\n",
    "print(\"Drugs:\")\n",
    "drugs_encoded = encode_drugs(drugs)\n",
    "print(drugs_encoded.shape)  # Expected shape: (instances, seq_len, features)\n",
    "\n",
    "\n",
    "def encode_prots(sequences, blosum=62, padding=True, size=None):\n",
    "    \"\"\"\n",
    "    Encodes a batch of protein sequences using the BLOSUM matrix.\n",
    "\n",
    "    Parameters\n",
    "    ----------\n",
    "    sequences : list of str\n",
    "        The list of protein sequences to encode.\n",
    "    blosum : int\n",
    "        The BLOSUM matrix to use. Default is 62.\n",
    "    padding : bool\n",
    "        Whether to pad the sequences with zeros if they are shorter than the specified size. Default is True.\n",
    "    size : int or None\n",
    "        The maximum length of the encoded sequences. If None, it will be set to the length of the longest sequence.\n",
    "\n",
    "    Returns\n",
    "    -------\n",
    "    torch.Tensor\n",
    "        A tensor of shape (instances, seq_len, vocab_size).\n",
    "    \"\"\"\n",
    "    # Load the BLOSUM matrix\n",
    "    matrix = bl.BLOSUM(blosum)\n",
    "    vocab_size = len(matrix)\n",
    "    # Determine the maximum sequence length\n",
    "    if size is None:\n",
    "        size = max(len(seq) for seq in sequences)\n",
    "\n",
    "    # Initialize a list to hold the encoded sequences\n",
    "    encoded_sequences = []\n",
    "\n",
    "    for sequence in sequences:\n",
    "        # Initialize the encoding matrix for this sequence\n",
    "        encoding = np.zeros((size, vocab_size))\n",
    "        # Encode the sequence using the BLOSUM matrix\n",
    "        for i, aa in enumerate(sequence):\n",
    "            if i >= size:\n",
    "                break  # Stop if the sequence exceeds the specified size\n",
    "            vector = np.array([matrix[vocab_aa][aa] for vocab_aa in matrix.keys()])\n",
    "            encoding[i, :] = np.tanh(vector)  # Apply tanh normalization\n",
    "\n",
    "        # If padding is enabled and the sequence is shorter than the specified size\n",
    "        if padding and len(sequence) < size:\n",
    "            to_pad = size - len(sequence)\n",
    "            encoding[len(sequence):, :] = np.zeros((to_pad, vocab_size))\n",
    "\n",
    "        encoded_sequences.append(encoding)\n",
    "\n",
    "    # Convert the list of encoded sequences to a tensor\n",
    "    encoded_sequences = torch.tensor(np.array(encoded_sequences))\n",
    "    \n",
    "    return encoded_sequences\n",
    "\n",
    "\n",
    "# Example usage for proteins\n",
    "print(\"Proteins:\")\n",
    "# Assume `prots` is a list of protein sequences\n",
    "prots_encoded = encode_prots(prots, size=split['train']['Target'].str.len().max())\n",
    "print(prots_encoded.shape)  # Expected shape: (instances, seq_len, features)"
   ]
  },
  {
   "cell_type": "code",
   "execution_count": 223,
   "metadata": {},
   "outputs": [],
   "source": [
    "import torch\n",
    "import torch.nn as nn\n",
    "\n",
    "class ResidualBlock(nn.Module):\n",
    "    def __init__(self, hidden_dim=64, kernel_size=3):\n",
    "        super().__init__()\n",
    "        self.net = nn.Sequential(\n",
    "            nn.Conv2d(hidden_dim, hidden_dim, kernel_size, padding=\"same\"),\n",
    "            nn.ReLU(),\n",
    "            nn.Dropout(0.2),\n",
    "            nn.BatchNorm2d(hidden_dim)\n",
    "        )\n",
    "\n",
    "    def forward(self, x):\n",
    "        return self.net(x) + x\n",
    "\n",
    "class Encoder(nn.Module):                               # input shape: [1, 81, 57]\n",
    "    def __init__(self, bottleneck_size=8):\n",
    "        super().__init__()\n",
    "        self.cnn = nn.Sequential(\n",
    "            nn.Conv2d(1, 8, kernel_size=(3, 3)),        # Output: (8, 79, 55)\n",
    "            ResidualBlock(8),\n",
    "            nn.MaxPool2d(2),                            # Output: (8, 39, 27)\n",
    "            ResidualBlock(8),\n",
    "            nn.Conv2d(8, 16, kernel_size=(3, 3)),       # Output: (16, 37, 25)\n",
    "            ResidualBlock(16),\n",
    "            nn.MaxPool2d(2),                            # Output: (16, 18, 12)\n",
    "            ResidualBlock(16),\n",
    "            nn.Conv2d(16, 16, kernel_size=(3, 3)),      # Output: (16, 16, 10)\n",
    "        )\n",
    "        self.flatten = nn.Flatten()\n",
    "        self.MLP = nn.Linear(16 * 16 * 10, bottleneck_size)\n",
    "\n",
    "    def forward(self, x):\n",
    "        x = x.unsqueeze(1)  # Adding channel dimension for CNN input\n",
    "        return self.MLP(self.flatten(self.cnn(x)))\n",
    "\n",
    "class Decoder(nn.Module):\n",
    "    def __init__(self, bottleneck_size=8):\n",
    "        super().__init__()\n",
    "        self.unflatten = nn.Unflatten(1, (16, 16, 10))      # Adjusted to match the encoder output\n",
    "        self.MLP = nn.Linear(bottleneck_size, 16 * 16 * 10) # Adjusted input size to match encoder output\n",
    "        self.cnn = nn.Sequential(\n",
    "            nn.ConvTranspose2d(16, 16, kernel_size=(3, 3)), # Output: (16, 18, 12)\n",
    "            ResidualBlock(16),\n",
    "            nn.Upsample(scale_factor=2),                    # Output: (16, 36, 25)\n",
    "            ResidualBlock(16),\n",
    "            nn.ConvTranspose2d(16, 8, kernel_size=(3, 3)),  # Output: (8, 38, 26)\n",
    "            ResidualBlock(8),\n",
    "            nn.Upsample(scale_factor=2),                    # Output: (8, 76, 52)\n",
    "            ResidualBlock(8),\n",
    "            nn.ConvTranspose2d(8, 1, kernel_size=(6, 6)),   # Output: (1, 81, 57)\n",
    "        )\n",
    "\n",
    "    def forward(self, x):\n",
    "        x = self.unflatten(self.MLP(x))\n",
    "        return self.cnn(x).squeeze(1)  # Remove the channel dimension\n",
    "\n",
    "class VariationalAutoEncoder(nn.Module):\n",
    "    def __init__(self, bottleneck_size=8):\n",
    "        super().__init__()\n",
    "        self.encoder = Encoder(bottleneck_size=bottleneck_size)\n",
    "        self.linear_to_means = nn.Linear(bottleneck_size, bottleneck_size)\n",
    "        self.linear_to_logvars = nn.Linear(bottleneck_size, bottleneck_size)\n",
    "        self.decoder = Decoder(bottleneck_size=bottleneck_size)\n",
    "\n",
    "    def encode(self, x):\n",
    "        z = self.encoder(x)\n",
    "        z_means = self.linear_to_means(z)\n",
    "        z_logvars = self.linear_to_logvars(z)\n",
    "        return z, z_means, z_logvars\n",
    "\n",
    "    def decode(self, x):\n",
    "        return self.decoder(x)\n",
    "\n",
    "    def reparameterization(self, mean, logvar):\n",
    "        std = torch.exp(0.5 * logvar)\n",
    "        eps = torch.randn_like(std)\n",
    "        return mean + eps * std\n",
    "\n",
    "    def forward(self, x):\n",
    "        encoding, z_means, z_logvars = self.encode(x)\n",
    "        z = self.reparameterization(z_means, z_logvars)\n",
    "        x_reconstructed = self.decode(z)\n",
    "        return x_reconstructed, z, z_means, z_logvars"
   ]
  },
  {
   "cell_type": "code",
   "execution_count": 224,
   "metadata": {},
   "outputs": [
    {
     "name": "stdout",
     "output_type": "stream",
     "text": [
      "original shape of x:\n",
      "torch.Size([16, 81, 57])\n",
      "\n",
      "Testing encoder:\n",
      "torch.Size([16, 8]) torch.Size([16, 8]) torch.Size([16, 8])\n",
      "\n",
      "Testing reparameterization:\n",
      "torch.Size([16, 8])\n",
      "\n",
      "Testing decoder:\n",
      "torch.Size([16, 81, 57])\n",
      "\n",
      "Testing whole model at once:\n",
      "torch.Size([16, 81, 57])\n"
     ]
    }
   ],
   "source": [
    "model = VariationalAutoEncoder(bottleneck_size = 8)\n",
    "\n",
    "x = torch.randn(16, 81, 57)\n",
    "print(\"original shape of x:\")\n",
    "print(x.shape)\n",
    "\n",
    "print(\"\\nTesting encoder:\")\n",
    "encoding, z_means, z_logvars = model.encode(x)\n",
    "print(encoding.shape, z_means.shape, z_logvars.shape)\n",
    "\n",
    "print(\"\\nTesting reparameterization:\")\n",
    "z = model.reparameterization(z_means, z_logvars)\n",
    "print(z.shape)\n",
    "\n",
    "print(\"\\nTesting decoder:\")\n",
    "x_decoded = model.decode(z)\n",
    "print(x_decoded.shape)\n",
    "\n",
    "print(\"\\nTesting whole model at once:\")\n",
    "x_reconstructed, z, z_means, z_logvars = model(x)\n",
    "print(x_reconstructed.shape)"
   ]
  },
  {
   "cell_type": "code",
   "execution_count": 213,
   "metadata": {},
   "outputs": [],
   "source": [
    "import torch.nn.functional as F\n",
    "\n",
    "class VAELoss(nn.Module):\n",
    "    def __init__(self, beta = 0.001):\n",
    "        super().__init__()\n",
    "        self.beta = beta\n",
    "\n",
    "    def forward(self, x_reconstruct, means, logvars, x_true):\n",
    "        # Reconstruction loss based on MSE over entire input & reconstructed output\n",
    "        reconstruction_loss = F.mse_loss(x_reconstruct, x_true)\n",
    "        # KL divergence loss to force distribution close Gaussian\n",
    "        KL_div_loss = (-0.5 * torch.sum(1 + logvars - means**2 - logvars.exp())) / means.size(1)\n",
    "\n",
    "        return reconstruction_loss + self.beta * KL_div_loss"
   ]
  },
  {
   "cell_type": "code",
   "execution_count": 215,
   "metadata": {},
   "outputs": [
    {
     "name": "stdout",
     "output_type": "stream",
     "text": [
      "Epoch 0: loss = 8.807698249816895\n",
      "Epoch 1: loss = 7.2431535720825195\n",
      "Epoch 2: loss = 6.205906391143799\n",
      "Epoch 3: loss = 5.426946640014648\n",
      "Epoch 4: loss = 4.954860210418701\n",
      "Epoch 5: loss = 4.441951274871826\n",
      "Epoch 6: loss = 4.089791774749756\n",
      "Epoch 7: loss = 3.847390651702881\n",
      "Epoch 8: loss = 3.5727007389068604\n",
      "Epoch 9: loss = 3.3548905849456787\n",
      "Epoch 10: loss = 3.1461923122406006\n",
      "Epoch 11: loss = 2.938033103942871\n",
      "Epoch 12: loss = 2.7777082920074463\n",
      "Epoch 13: loss = 2.5764713287353516\n",
      "Epoch 14: loss = 2.505385160446167\n",
      "Epoch 15: loss = 2.305211305618286\n",
      "Epoch 16: loss = 2.2119007110595703\n",
      "Epoch 17: loss = 2.124023914337158\n",
      "Epoch 18: loss = 2.0225987434387207\n",
      "Epoch 19: loss = 1.9356749057769775\n"
     ]
    }
   ],
   "source": [
    "N_EPOCHS = 20\n",
    "\n",
    "# Initialize model\n",
    "model = VariationalAutoEncoder(bottleneck_size = 8).to(\"cuda\")\n",
    "\n",
    "# Initialize custom loss function used to compute loss during training\n",
    "loss_function = VAELoss(beta = 0.001)\n",
    "\n",
    "# Initialize optimizer used to update model parameters\n",
    "optimizer = torch.optim.Adam(model.parameters(), lr=0.001)\n",
    "\n",
    "for epoch in range(N_EPOCHS):\n",
    "    model.train() # allow for parameters to be updated\n",
    "    optimizer.zero_grad() # set gradients of model parameters to zero\n",
    "    X = drugs_encoded.float()\n",
    "    X = X.to(\"cuda\")\n",
    "\n",
    "    # TODO: use z's of different VAEs to compute interaction / modality losses\n",
    "    x_reconstruct, z, z_means, z_logvars = model(X)\n",
    "    loss = loss_function(x_reconstruct, z_means, z_logvars, X)\n",
    "\n",
    "    loss.backward()\n",
    "    optimizer.step()\n",
    "\n",
    "    print(f\"Epoch {epoch}: loss = {loss.item()}\")"
   ]
  },
  {
   "cell_type": "code",
   "execution_count": null,
   "metadata": {},
   "outputs": [],
   "source": []
  }
 ],
 "metadata": {
  "kernelspec": {
   "display_name": "venv",
   "language": "python",
   "name": "python3"
  },
  "language_info": {
   "codemirror_mode": {
    "name": "ipython",
    "version": 3
   },
   "file_extension": ".py",
   "mimetype": "text/x-python",
   "name": "python",
   "nbconvert_exporter": "python",
   "pygments_lexer": "ipython3",
   "version": "3.10.12"
  }
 },
 "nbformat": 4,
 "nbformat_minor": 2
}
